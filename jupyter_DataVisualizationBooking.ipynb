{
  "nbformat": 4,
  "nbformat_minor": 0,
  "metadata": {
    "colab": {
      "name": "jupyter_DataVisualizationBooking.ipynb",
      "provenance": []
    },
    "language_info": {
      "codemirror_mode": {
        "name": "ipython",
        "version": 3
      },
      "file_extension": ".py",
      "mimetype": "text/x-python",
      "name": "python",
      "nbconvert_exporter": "python",
      "pygments_lexer": "ipython3",
      "version": "3.6.4"
    },
    "kernelspec": {
      "display_name": "Python 3",
      "language": "python",
      "name": "python3"
    }
  },
  "cells": [
    {
      "cell_type": "code",
      "metadata": {
        "id": "QKXPpdBF7CwR",
        "colab_type": "code",
        "colab": {}
      },
      "source": [
        "import matplotlib.pyplot as plt\n",
        "import pandas as pd"
      ],
      "execution_count": 0,
      "outputs": []
    },
    {
      "cell_type": "code",
      "metadata": {
        "id": "L8WrPYeF7Cwf",
        "colab_type": "code",
        "colab": {}
      },
      "source": [
        "data = pd.read_excel(\"/home/yi/Music/Sentiment-Analysis/statistics_city_hotels_Booking.csv.xlsx\")"
      ],
      "execution_count": 0,
      "outputs": []
    },
    {
      "cell_type": "code",
      "metadata": {
        "id": "QYV1uHUT7Cwq",
        "colab_type": "code",
        "outputId": "693c539e-42e3-4671-d0e5-c3981ec43a32",
        "colab": {}
      },
      "source": [
        "type(data)"
      ],
      "execution_count": 0,
      "outputs": [
        {
          "output_type": "execute_result",
          "data": {
            "text/plain": [
              "pandas.core.frame.DataFrame"
            ]
          },
          "metadata": {
            "tags": []
          },
          "execution_count": 75
        }
      ]
    },
    {
      "cell_type": "code",
      "metadata": {
        "id": "_8r4EeFJ7Cw1",
        "colab_type": "code",
        "colab": {}
      },
      "source": [
        "citys = data[\"city\"]\n",
        "citysName = list()"
      ],
      "execution_count": 0,
      "outputs": []
    },
    {
      "cell_type": "code",
      "metadata": {
        "id": "79fJwHym7Cw6",
        "colab_type": "code",
        "colab": {}
      },
      "source": [
        "for city in citys:\n",
        "    city_str = (city.split(\"/\")[-1]).split(\"_\")\n",
        "    cityName = city_str[0] + \"_\" + city_str[-2]\n",
        "    citysName.append(cityName)"
      ],
      "execution_count": 0,
      "outputs": []
    },
    {
      "cell_type": "code",
      "metadata": {
        "id": "FZl0pYXd7CxA",
        "colab_type": "code",
        "colab": {}
      },
      "source": [
        "size = list()\n",
        "for i in data[\"size(MB)\"]:\n",
        "    size2.append(float(\"{0:0.1f}\".format(i)))\n",
        "    "
      ],
      "execution_count": 0,
      "outputs": []
    },
    {
      "cell_type": "code",
      "metadata": {
        "id": "Uvez2O5w7CxF",
        "colab_type": "code",
        "outputId": "311b1910-92e4-4dec-f737-132fa25b8dce",
        "colab": {}
      },
      "source": [
        "list(data[\"totalReviews\"])"
      ],
      "execution_count": 0,
      "outputs": [
        {
          "output_type": "execute_result",
          "data": {
            "text/plain": [
              "[124254,\n",
              " 172146,\n",
              " 132728,\n",
              " 232219,\n",
              " 432022,\n",
              " 84725,\n",
              " 192517,\n",
              " 83979,\n",
              " 89450,\n",
              " 88770,\n",
              " 108125,\n",
              " 39713,\n",
              " 78430,\n",
              " 91615,\n",
              " 173875,\n",
              " 86925,\n",
              " 30145,\n",
              " 32996,\n",
              " 20737,\n",
              " 20817,\n",
              " 48948,\n",
              " 51894,\n",
              " 42978,\n",
              " 152434,\n",
              " 134681,\n",
              " 4059,\n",
              " 49222,\n",
              " 68547,\n",
              " 23572,\n",
              " 36134,\n",
              " 21423,\n",
              " 23710,\n",
              " 2727,\n",
              " 28301,\n",
              " 36514,\n",
              " 151977]"
            ]
          },
          "metadata": {
            "tags": []
          },
          "execution_count": 85
        }
      ]
    },
    {
      "cell_type": "code",
      "metadata": {
        "id": "Zqp7fqUj7CxL",
        "colab_type": "code",
        "outputId": "32f2319d-6296-45f0-dfff-aff85f35f856",
        "colab": {}
      },
      "source": [
        "citysName"
      ],
      "execution_count": 0,
      "outputs": [
        {
          "output_type": "execute_result",
          "data": {
            "text/plain": [
              "['031_Roma',\n",
              " '003_Barcelona',\n",
              " '006_Paris',\n",
              " '001_Amsterdam',\n",
              " '008_London',\n",
              " '022_Prague',\n",
              " '011_Edinburgh',\n",
              " '023_Vienna',\n",
              " '016_Lisbon',\n",
              " '025_Budapest',\n",
              " '017_Madrid',\n",
              " '026_Warsaw',\n",
              " '018_Brussels',\n",
              " '002_Athens',\n",
              " '012_Dublin',\n",
              " '019_Munich',\n",
              " '029_Riga',\n",
              " '021_hamburg',\n",
              " '028_Vilnius',\n",
              " '030_Tallinn',\n",
              " '015_Reykjavik',\n",
              " '020_Frankfurt',\n",
              " '024_Zurich',\n",
              " '009_Manchester',\n",
              " '010_Liverpool',\n",
              " '027_Minsk',\n",
              " '007_Stockholm',\n",
              " '013_Copenhagen',\n",
              " '005_Helsinki',\n",
              " '014_Oslo',\n",
              " '032_Kiev',\n",
              " '033_Bucharest',\n",
              " '034_Kharkiv',\n",
              " '035_Sofia',\n",
              " '035_Cologne',\n",
              " '004_Berlin']"
            ]
          },
          "metadata": {
            "tags": []
          },
          "execution_count": 83
        }
      ]
    },
    {
      "cell_type": "code",
      "metadata": {
        "id": "Qhs0zD5c7CxS",
        "colab_type": "code",
        "outputId": "cf9b170d-1947-4a30-fbe2-001f2f8e06b0",
        "colab": {}
      },
      "source": [
        "type(ax)"
      ],
      "execution_count": 0,
      "outputs": [
        {
          "output_type": "execute_result",
          "data": {
            "text/plain": [
              "matplotlib.axes._subplots.AxesSubplot"
            ]
          },
          "metadata": {
            "tags": []
          },
          "execution_count": 80
        }
      ]
    },
    {
      "cell_type": "code",
      "metadata": {
        "id": "MDOfOBUN7CxZ",
        "colab_type": "code",
        "colab": {}
      },
      "source": [
        "type(ax)\n",
        "ind = range(36)\n",
        "plt.bar()"
      ],
      "execution_count": 0,
      "outputs": []
    },
    {
      "cell_type": "code",
      "metadata": {
        "id": "dyi_QjSS7Cxh",
        "colab_type": "code",
        "outputId": "bfd9b940-7765-4c41-bcfd-a21e724a5e6b",
        "colab": {}
      },
      "source": [
        "ax.bar(ind, data[\"totalReviews\"], width)\n",
        "ax.set_xticklabels(citysName)\n",
        "plt.show()"
      ],
      "execution_count": 0,
      "outputs": [
        {
          "output_type": "display_data",
          "data": {
            "image/png": "[encoded data removed]",
            "text/plain": [
              "<matplotlib.figure.Figure at 0x7f0a8c1cc208>"
            ]
          },
          "metadata": {
            "tags": []
          }
        }
      ]
    }
  ]
}